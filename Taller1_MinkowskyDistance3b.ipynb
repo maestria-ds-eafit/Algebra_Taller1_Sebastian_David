{
 "cells": [
  {
   "cell_type": "code",
   "execution_count": 2,
   "metadata": {},
   "outputs": [],
   "source": [
    "import numpy as np\n",
    "import random"
   ]
  },
  {
   "cell_type": "code",
   "execution_count": 5,
   "metadata": {},
   "outputs": [],
   "source": [
    "def random_vector(n, alpha, p):\n",
    "    # Se genera un vector de tamaño n con números aleatorios en el rango de 0 a 200\n",
    "    random_vector = np.array([random.uniform(0, 100) for _ in range(n)])\n",
    "    # Se genera la norma del vector, donde podemos utilizar la norma 1,2, inf\n",
    "    norm = np.linalg.norm(random_vector, ord=p)\n",
    "    # Se generan los vectores de tamaño n, cuya distancia de Minkowoski de norma p al origen sea menor que 0.1\n",
    "    a = (random_vector/norm)*alpha\n",
    "    return a"
   ]
  },
  {
   "cell_type": "code",
   "execution_count": 11,
   "metadata": {},
   "outputs": [],
   "source": [
    "def generate_points(n, alpha, p):\n",
    "    points = []\n",
    "    for i in range(1,6):\n",
    "        vectores = random_vector(n, alpha, p)\n",
    "        points.append(vectores)\n",
    "    return points"
   ]
  },
  {
   "cell_type": "markdown",
   "metadata": {},
   "source": [
    "With norm 1"
   ]
  },
  {
   "cell_type": "code",
   "execution_count": 14,
   "metadata": {},
   "outputs": [
    {
     "data": {
      "text/plain": [
       "[array([0.00507345, 0.00989913, 0.003017  , 0.00113667, 0.01072063,\n",
       "        0.00030364, 0.00467437, 0.00248234, 0.00712178, 0.005571  ]),\n",
       " array([0.00602948, 0.00367614, 0.00227985, 0.01005947, 0.00304711,\n",
       "        0.00845547, 0.00148576, 0.00567896, 0.00821231, 0.00107543]),\n",
       " array([0.00659234, 0.00724173, 0.00193471, 0.00161516, 0.00746886,\n",
       "        0.00415141, 0.00746343, 0.00712936, 0.00144743, 0.00495558]),\n",
       " array([0.00241417, 0.00693925, 0.00269443, 0.00574309, 0.00372696,\n",
       "        0.00598217, 0.00607182, 0.00519431, 0.00395288, 0.00728092]),\n",
       " array([6.44059712e-03, 2.66631624e-03, 8.28251401e-05, 9.01547492e-03,\n",
       "        7.98509194e-03, 5.09403858e-03, 8.42540194e-03, 7.69715920e-03,\n",
       "        2.42695109e-03, 1.66143828e-04])]"
      ]
     },
     "execution_count": 14,
     "metadata": {},
     "output_type": "execute_result"
    }
   ],
   "source": [
    "generate_points(10, 0.05, 1)"
   ]
  },
  {
   "cell_type": "markdown",
   "metadata": {},
   "source": [
    "With norm 2"
   ]
  },
  {
   "cell_type": "code",
   "execution_count": 15,
   "metadata": {},
   "outputs": [
    {
     "data": {
      "text/plain": [
       "[array([0.01481737, 0.00520596, 0.02200889, 0.01849723, 0.00656389,\n",
       "        0.01909673, 0.0239263 , 0.01433398, 0.01516393, 0.0033405 ]),\n",
       " array([0.02188843, 0.01562872, 0.02677223, 0.0099156 , 0.00066114,\n",
       "        0.00519595, 0.00111804, 0.00028645, 0.00708929, 0.02970763]),\n",
       " array([0.02418368, 0.00969019, 0.01529926, 0.02197556, 0.01061644,\n",
       "        0.00218641, 0.00762115, 0.01781345, 0.01585371, 0.01897438]),\n",
       " array([0.01929994, 0.0031628 , 0.01898431, 0.00500706, 0.0111148 ,\n",
       "        0.02666736, 0.00067369, 0.02364497, 0.015048  , 0.01055303]),\n",
       " array([0.00775157, 0.02088634, 0.01908353, 0.01911197, 0.01965132,\n",
       "        0.02107558, 0.01536901, 0.00292258, 0.01410341, 0.00046568])]"
      ]
     },
     "execution_count": 15,
     "metadata": {},
     "output_type": "execute_result"
    }
   ],
   "source": [
    "generate_points(10, 0.05, 2)"
   ]
  },
  {
   "cell_type": "markdown",
   "metadata": {},
   "source": [
    "With inf norm"
   ]
  },
  {
   "cell_type": "code",
   "execution_count": 16,
   "metadata": {},
   "outputs": [
    {
     "data": {
      "text/plain": [
       "[array([0.02473922, 0.02257927, 0.01932878, 0.04933409, 0.02037406,\n",
       "        0.05      , 0.04881439, 0.01739847, 0.0446906 , 0.00299388]),\n",
       " array([0.0258471 , 0.0168785 , 0.04863484, 0.0150869 , 0.03522516,\n",
       "        0.02794476, 0.00375962, 0.00128679, 0.05      , 0.00974636]),\n",
       " array([0.00107432, 0.04511055, 0.04824136, 0.01751109, 0.03749866,\n",
       "        0.05      , 0.032663  , 0.01629579, 0.01395653, 0.00011298]),\n",
       " array([0.00193694, 0.00244629, 0.01415969, 0.00637693, 0.02940487,\n",
       "        0.05      , 0.03881495, 0.02911996, 0.00593647, 0.00477515]),\n",
       " array([0.04560261, 0.0213667 , 0.03753044, 0.03808985, 0.03216585,\n",
       "        0.00771898, 0.01165596, 0.05      , 0.03213237, 0.02790578])]"
      ]
     },
     "execution_count": 16,
     "metadata": {},
     "output_type": "execute_result"
    }
   ],
   "source": [
    "generate_points(10, 0.05, np.inf)"
   ]
  }
 ],
 "metadata": {
  "kernelspec": {
   "display_name": "Algebra_Taller1_Sebastian_David-BLDrIftN",
   "language": "python",
   "name": "python3"
  },
  "language_info": {
   "name": "python",
   "version": "3.11.5"
  },
  "orig_nbformat": 4
 },
 "nbformat": 4,
 "nbformat_minor": 2
}
