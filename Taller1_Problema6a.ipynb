{
 "cells": [
  {
   "cell_type": "markdown",
   "metadata": {},
   "source": [
    "# 6a. Norma inducida"
   ]
  },
  {
   "cell_type": "markdown",
   "metadata": {},
   "source": [
    "##### Importando librerías"
   ]
  },
  {
   "cell_type": "code",
   "execution_count": 1,
   "metadata": {},
   "outputs": [],
   "source": [
    "import numpy as np\n",
    "import random"
   ]
  },
  {
   "cell_type": "markdown",
   "metadata": {},
   "source": [
    "##### Se crea un algoritmo donde lo primero que hace es crear una matriz de hilbert NxM siendo N=M (Cuadratica), luego se crean varios vectores canonicos de tamaño N y de cantidad M. Se multiplican esos vectores Canonicos con la matriz creada y el resultados son otros vectores. A estos vectores se le saca la norma P y luego se escoge el maximo valor de estas normas generadas. El resultado seria la Norma Inducida de la matriz generada."
   ]
  },
  {
   "cell_type": "code",
   "execution_count": 2,
   "metadata": {},
   "outputs": [],
   "source": [
    "   \n",
    "def hilbert(n):\n",
    "    H = np.zeros((n, n))\n",
    "    for i in range(n):\n",
    "        for j in range(n):\n",
    "            H[i, j] = 1 / (i + j + 1)\n",
    "    return H\n",
    "\n",
    "def random_canonical_vectors(n, m):\n",
    "    # Generate m random canonical vectors of size n\n",
    "    vectors = []\n",
    "    for i in range(m):\n",
    "        e = np.zeros(n)\n",
    "        e[i % n] = 1\n",
    "        vectors.append(e)\n",
    "    return vectors\n",
    "\n",
    "def minkowski_norm(x, p):\n",
    "    # Calculate the Minkowski norm of a vector x with order p\n",
    "    if p == 1:\n",
    "        norm = np.sum(np.abs(x))\n",
    "    elif p == 2:\n",
    "        norm = np.sqrt(np.sum(np.square(x)))\n",
    "    elif p == float('inf'):\n",
    "        norm = np.max(np.abs(x))\n",
    "    return norm\n",
    "\n",
    "def max_minkowski_norm(n, m, p):\n",
    "    # Generate a random matrix of size n by m with integer numbers\n",
    "    x = hilbert(n)\n",
    "    # Generate m random canonical vectors of size n\n",
    "    vectors_canonicos = random_canonical_vectors(n, m)\n",
    "    # Calculate the product of the matrix and the canonical vectors\n",
    "    resultado = [np.transpose(x) @ vectors_canonicos[i] for i in range(len(vectors_canonicos))]\n",
    "    # Calculate the Minkowski norm of each product vector\n",
    "    normas = [minkowski_norm(v, p) for v in resultado]\n",
    "    # Find the maximum norm\n",
    "    maximo = max(normas)\n",
    "    return maximo\n",
    "\n"
   ]
  },
  {
   "cell_type": "markdown",
   "metadata": {},
   "source": [
    "##### Aquí se debe de ingresar el valor de n = # y por ultimo de la norma que se quiere hallar P = \"1\", \"2\" y \"inf\"."
   ]
  },
  {
   "cell_type": "code",
   "execution_count": 3,
   "metadata": {},
   "outputs": [
    {
     "name": "stdout",
     "output_type": "stream",
     "text": [
      "1.209797962930634\n"
     ]
    }
   ],
   "source": [
    "\n",
    "n =5\n",
    "p = 2 \n",
    "m = n\n",
    "max_norm = max_minkowski_norm(n, m, p)\n",
    "print(max_norm)"
   ]
  },
  {
   "cell_type": "markdown",
   "metadata": {},
   "source": [
    "### Si quiere ver el paso a paso detallado de como funciona el algoritmo, en las proximas lineas se muestra explicitamente como funciona."
   ]
  },
  {
   "cell_type": "markdown",
   "metadata": {},
   "source": [
    "##### Se generan los números aleatorios para alimentar la función de la matriz"
   ]
  },
  {
   "cell_type": "code",
   "execution_count": 15,
   "metadata": {},
   "outputs": [],
   "source": [
    "n =  random.randint(2, 11)\n",
    "m = n"
   ]
  },
  {
   "cell_type": "markdown",
   "metadata": {},
   "source": [
    "##### Función para crear la matriz de hilbert (cuadrada)"
   ]
  },
  {
   "cell_type": "code",
   "execution_count": 16,
   "metadata": {},
   "outputs": [],
   "source": [
    "\n",
    "def hilbert(n):\n",
    "    H = np.zeros((n, n))\n",
    "    for i in range(n):\n",
    "        for j in range(n):\n",
    "            H[i, j] = 1 / (i + j + 1)\n",
    "    return H\n",
    "\n",
    "x = hilbert(n)"
   ]
  },
  {
   "cell_type": "code",
   "execution_count": 17,
   "metadata": {},
   "outputs": [
    {
     "name": "stdout",
     "output_type": "stream",
     "text": [
      "[[1.         0.5        0.33333333 0.25      ]\n",
      " [0.5        0.33333333 0.25       0.2       ]\n",
      " [0.33333333 0.25       0.2        0.16666667]\n",
      " [0.25       0.2        0.16666667 0.14285714]]\n"
     ]
    },
    {
     "data": {
      "text/plain": [
       "(4, 4)"
      ]
     },
     "execution_count": 17,
     "metadata": {},
     "output_type": "execute_result"
    }
   ],
   "source": [
    "print(x)\n",
    "x.shape"
   ]
  },
  {
   "cell_type": "markdown",
   "metadata": {},
   "source": [
    "##### Se crean los vectores Canonicos con tamño \"n\" y el número de vectores es \"m\""
   ]
  },
  {
   "cell_type": "code",
   "execution_count": 5,
   "metadata": {},
   "outputs": [
    {
     "name": "stdout",
     "output_type": "stream",
     "text": [
      "[1. 0. 0. 0. 0. 0. 0. 0. 0. 0. 0.]\n",
      "[0. 1. 0. 0. 0. 0. 0. 0. 0. 0. 0.]\n",
      "[0. 0. 1. 0. 0. 0. 0. 0. 0. 0. 0.]\n",
      "[0. 0. 0. 1. 0. 0. 0. 0. 0. 0. 0.]\n",
      "[0. 0. 0. 0. 1. 0. 0. 0. 0. 0. 0.]\n",
      "[0. 0. 0. 0. 0. 1. 0. 0. 0. 0. 0.]\n",
      "[0. 0. 0. 0. 0. 0. 1. 0. 0. 0. 0.]\n",
      "[0. 0. 0. 0. 0. 0. 0. 1. 0. 0. 0.]\n",
      "[0. 0. 0. 0. 0. 0. 0. 0. 1. 0. 0.]\n",
      "[0. 0. 0. 0. 0. 0. 0. 0. 0. 1. 0.]\n",
      "[0. 0. 0. 0. 0. 0. 0. 0. 0. 0. 1.]\n"
     ]
    }
   ],
   "source": [
    "vectores_canonicos = [] # Lista de vectores canónicos aleatorios\n",
    "\n",
    "for i in range(m): # Generar m vectores canónicos\n",
    "    e = np.zeros(n) # Vector canónico de longitud n\n",
    "    e[i % n] = 1 # Establecer el valor de 1 en la posición correspondiente\n",
    "    vectores_canonicos.append(e) # Agregar el vector canónico a la lista\n",
    "\n",
    "for e in vectores_canonicos:\n",
    "    print(e)"
   ]
  },
  {
   "cell_type": "markdown",
   "metadata": {},
   "source": [
    "##### Se hace la multiplicación de la matriz aleatoria y los vectores canonicos "
   ]
  },
  {
   "cell_type": "code",
   "execution_count": 6,
   "metadata": {},
   "outputs": [
    {
     "name": "stdout",
     "output_type": "stream",
     "text": [
      "[array([1.        , 0.5       , 0.33333333, 0.25      , 0.2       ,\n",
      "       0.16666667, 0.14285714, 0.125     , 0.11111111, 0.1       ,\n",
      "       0.09090909]), array([0.5       , 0.33333333, 0.25      , 0.2       , 0.16666667,\n",
      "       0.14285714, 0.125     , 0.11111111, 0.1       , 0.09090909,\n",
      "       0.08333333]), array([0.33333333, 0.25      , 0.2       , 0.16666667, 0.14285714,\n",
      "       0.125     , 0.11111111, 0.1       , 0.09090909, 0.08333333,\n",
      "       0.07692308]), array([0.25      , 0.2       , 0.16666667, 0.14285714, 0.125     ,\n",
      "       0.11111111, 0.1       , 0.09090909, 0.08333333, 0.07692308,\n",
      "       0.07142857]), array([0.2       , 0.16666667, 0.14285714, 0.125     , 0.11111111,\n",
      "       0.1       , 0.09090909, 0.08333333, 0.07692308, 0.07142857,\n",
      "       0.06666667]), array([0.16666667, 0.14285714, 0.125     , 0.11111111, 0.1       ,\n",
      "       0.09090909, 0.08333333, 0.07692308, 0.07142857, 0.06666667,\n",
      "       0.0625    ]), array([0.14285714, 0.125     , 0.11111111, 0.1       , 0.09090909,\n",
      "       0.08333333, 0.07692308, 0.07142857, 0.06666667, 0.0625    ,\n",
      "       0.05882353]), array([0.125     , 0.11111111, 0.1       , 0.09090909, 0.08333333,\n",
      "       0.07692308, 0.07142857, 0.06666667, 0.0625    , 0.05882353,\n",
      "       0.05555556]), array([0.11111111, 0.1       , 0.09090909, 0.08333333, 0.07692308,\n",
      "       0.07142857, 0.06666667, 0.0625    , 0.05882353, 0.05555556,\n",
      "       0.05263158]), array([0.1       , 0.09090909, 0.08333333, 0.07692308, 0.07142857,\n",
      "       0.06666667, 0.0625    , 0.05882353, 0.05555556, 0.05263158,\n",
      "       0.05      ]), array([0.09090909, 0.08333333, 0.07692308, 0.07142857, 0.06666667,\n",
      "       0.0625    , 0.05882353, 0.05555556, 0.05263158, 0.05      ,\n",
      "       0.04761905])]\n"
     ]
    }
   ],
   "source": [
    "resultado = [np.transpose(x) @ vectores_canonicos[i] for i in range(len(vectores_canonicos))]\n",
    "print(resultado)"
   ]
  },
  {
   "cell_type": "markdown",
   "metadata": {},
   "source": [
    "##### Se crea la función para generar normas vectoriales"
   ]
  },
  {
   "cell_type": "code",
   "execution_count": 7,
   "metadata": {},
   "outputs": [],
   "source": [
    "def minkowski_norm(x, p):\n",
    "    # Calculate the Minkowski norm of a vector x with order p\n",
    "    if p == 1:\n",
    "        norm = np.sum(np.abs(x))\n",
    "    elif p == 2:\n",
    "        norm = np.sqrt(np.sum(np.square(x)))\n",
    "    elif p == float('inf'):\n",
    "        norm = np.max(np.abs(x))\n",
    "    return norm"
   ]
  },
  {
   "cell_type": "markdown",
   "metadata": {},
   "source": [
    "##### Aquí se debe de escoger la norma que se desea implementar. (1,2,infinito)"
   ]
  },
  {
   "cell_type": "code",
   "execution_count": 8,
   "metadata": {},
   "outputs": [
    {
     "name": "stdout",
     "output_type": "stream",
     "text": [
      "[3.0198773448773446, 2.1032106782106785, 1.6801337551337547, 1.418228993228993, 1.2348956598956597, 1.09739565989566, 0.9895525226407579, 0.9022509353391707, 0.8298825142865391, 0.768771403175428, 0.7163904507944756]\n"
     ]
    }
   ],
   "source": [
    "# Normas P \n",
    "p = 1 \n",
    "# p = 2\n",
    "# P = \"inf\"\n",
    "\n",
    "normas =[]\n",
    "for v in resultado:\n",
    "    norma = minkowski_norm(v,p)\n",
    "    normas.append(norma)\n",
    "    \n",
    "print(normas)"
   ]
  },
  {
   "cell_type": "markdown",
   "metadata": {},
   "source": [
    "##### Se saca el maximo de las normas vectoriales "
   ]
  },
  {
   "cell_type": "code",
   "execution_count": 9,
   "metadata": {},
   "outputs": [
    {
     "name": "stdout",
     "output_type": "stream",
     "text": [
      "3.0198773448773446\n"
     ]
    }
   ],
   "source": [
    "maximo = max(normas)\n",
    "print(maximo)"
   ]
  }
 ],
 "metadata": {
  "kernelspec": {
   "display_name": "Algebra_Taller1_Sebastian_David-BLDrIftN",
   "language": "python",
   "name": "python3"
  },
  "language_info": {
   "codemirror_mode": {
    "name": "ipython",
    "version": 3
   },
   "file_extension": ".py",
   "mimetype": "text/x-python",
   "name": "python",
   "nbconvert_exporter": "python",
   "pygments_lexer": "ipython3",
   "version": "3.11.5"
  },
  "orig_nbformat": 4
 },
 "nbformat": 4,
 "nbformat_minor": 2
}
