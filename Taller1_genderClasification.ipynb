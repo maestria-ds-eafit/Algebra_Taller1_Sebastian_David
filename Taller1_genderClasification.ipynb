{
 "cells": [
  {
   "cell_type": "markdown",
   "metadata": {},
   "source": [
    "# Gender Clasification Model"
   ]
  },
  {
   "cell_type": "markdown",
   "metadata": {},
   "source": [
    "## Importing libraries"
   ]
  },
  {
   "cell_type": "code",
   "execution_count": 1,
   "metadata": {},
   "outputs": [],
   "source": [
    "from PIL import Image\n",
    "import os"
   ]
  },
  {
   "cell_type": "markdown",
   "metadata": {},
   "source": [
    "## Resizing all pictures to 600 x 400 px"
   ]
  },
  {
   "cell_type": "code",
   "execution_count": 7,
   "metadata": {},
   "outputs": [],
   "source": [
    "def resize_picture(widht,height,gender,type,file):\n",
    "    image = Image.open('pictures_dataset/raw/'+gender+'/'+type+'/'+file)\n",
    "    new_size = (widht, height)  # Replace with your desired dimensions\n",
    "    resized_image = image.resize(new_size)\n",
    "    resized_image.save('pictures_dataset/trusted/'+gender+'/'+type+'/'+file)\n",
    "    image.close()"
   ]
  },
  {
   "cell_type": "code",
   "execution_count": 8,
   "metadata": {},
   "outputs": [],
   "source": [
    "for gender in [\"female\",\"male\"]:\n",
    "    for type in [\"training_set\",\"test_set\"]:\n",
    "        for file in os.listdir(\"pictures_dataset/raw/\"+gender+\"/\"+type+\"/\"):\n",
    "            resize_picture(400,600,gender,type,file)"
   ]
  }
 ],
 "metadata": {
  "kernelspec": {
   "display_name": "Algebra_Taller1_Sebastian_David-Vxe6WzMv",
   "language": "python",
   "name": "python3"
  },
  "language_info": {
   "codemirror_mode": {
    "name": "ipython",
    "version": 3
   },
   "file_extension": ".py",
   "mimetype": "text/x-python",
   "name": "python",
   "nbconvert_exporter": "python",
   "pygments_lexer": "ipython3",
   "version": "3.11.5"
  },
  "orig_nbformat": 4
 },
 "nbformat": 4,
 "nbformat_minor": 2
}
