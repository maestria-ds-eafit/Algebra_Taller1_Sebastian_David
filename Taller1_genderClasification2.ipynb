{
 "cells": [
  {
   "cell_type": "markdown",
   "metadata": {},
   "source": [
    "## Gender Clasification Model"
   ]
  },
  {
   "cell_type": "markdown",
   "metadata": {},
   "source": [
    "Import libraries"
   ]
  },
  {
   "cell_type": "code",
   "execution_count": 7,
   "metadata": {},
   "outputs": [],
   "source": [
    "import os\n",
    "import numpy as np\n",
    "from PIL import Image\n",
    "from sklearn.model_selection import train_test_split\n",
    "from sklearn.neighbors import KNeighborsClassifier\n",
    "from sklearn.metrics import classification_report, accuracy_score,confusion_matrix,ConfusionMatrixDisplay\n",
    "import seaborn as sns\n",
    "import matplotlib.pyplot as plt"
   ]
  },
  {
   "cell_type": "markdown",
   "metadata": {},
   "source": [
    "Create a function to load the images, resize them, convert them to an array and flatten them"
   ]
  },
  {
   "cell_type": "code",
   "execution_count": 2,
   "metadata": {},
   "outputs": [],
   "source": [
    "def load_images_from_folder(folder):\n",
    "    images = []\n",
    "    labels = []\n",
    "    for filename in os.listdir(folder):\n",
    "        img = Image.open(os.path.join(folder, filename))\n",
    "        img = img.resize((400, 600))  # Resize to a common size\n",
    "        img = np.array(img)\n",
    "        images.append(img.flatten())  # Flatten the image data\n",
    "        if \"female\" in folder:\n",
    "            labels.append(1)\n",
    "        else:\n",
    "            labels.append(0)\n",
    "    return images, labels"
   ]
  },
  {
   "cell_type": "markdown",
   "metadata": {},
   "source": [
    "The function is used with female and male images"
   ]
  },
  {
   "cell_type": "code",
   "execution_count": 3,
   "metadata": {},
   "outputs": [],
   "source": [
    "male_images, male_labels = load_images_from_folder('pictures_dataset/raw/male/')\n",
    "female_images, female_labels = load_images_from_folder('pictures_dataset/raw/female/')\n",
    "\n",
    "## Combine male and female data\n",
    "#X = male_images + female_images\n",
    "#y = male_labels + female_labels"
   ]
  },
  {
   "cell_type": "code",
   "execution_count": 37,
   "metadata": {},
   "outputs": [],
   "source": [
    "X_train_males, X_test_males, y_train_males, y_test_males = train_test_split(male_images, male_labels, test_size=0.2, random_state=42)\n",
    "X_train_females, X_test_females, y_train_females, y_test_females = train_test_split(female_images, female_labels, test_size=0.2, random_state=42)"
   ]
  },
  {
   "cell_type": "code",
   "execution_count": 38,
   "metadata": {},
   "outputs": [],
   "source": [
    "# Combine male and female data\n",
    "X_train=X_train_males+X_train_females\n",
    "X_test=X_test_males+X_test_females\n",
    "y_train=y_train_males+y_train_females\n",
    "y_test=y_test_males+y_test_females"
   ]
  },
  {
   "cell_type": "markdown",
   "metadata": {},
   "source": [
    "The information is divided to train the model and test it\n",
    "\n",
    "\"<font color=\"red\">The model is trained with 80% of the data and testes with the another 20%</font>\""
   ]
  },
  {
   "cell_type": "code",
   "execution_count": 4,
   "metadata": {},
   "outputs": [],
   "source": [
    "#X_train, X_test, y_train, y_test = train_test_split(X, y, test_size=0.2, random_state=42)"
   ]
  },
  {
   "cell_type": "code",
   "execution_count": 39,
   "metadata": {},
   "outputs": [
    {
     "name": "stdout",
     "output_type": "stream",
     "text": [
      "474\n",
      "378\n"
     ]
    }
   ],
   "source": [
    "print(len(X_train+X_test))\n",
    "print(len(X_train))"
   ]
  },
  {
   "cell_type": "markdown",
   "metadata": {},
   "source": [
    "Choose the best K"
   ]
  },
  {
   "cell_type": "markdown",
   "metadata": {},
   "source": [
    "\"<font color=\"red\">The model is trained with 80% of the data and the model is used without changing the parameters</font>\""
   ]
  },
  {
   "cell_type": "code",
   "execution_count": 40,
   "metadata": {},
   "outputs": [
    {
     "data": {
      "text/plain": [
       "Text(0.5, 1.0, 'Confusion Matrix with K=1')"
      ]
     },
     "execution_count": 40,
     "metadata": {},
     "output_type": "execute_result"
    },
    {
     "data": {
      "image/png": "[encoded data removed]",
      "text/plain": [
       "<Figure size 640x480 with 2 Axes>"
      ]
     },
     "metadata": {},
     "output_type": "display_data"
    }
   ],
   "source": [
    "clf=KNeighborsClassifier(n_neighbors=1)\n",
    "clf.fit(X_train,y_train)\n",
    "pred=clf.predict(X_test)\n",
    "con=confusion_matrix(y_test,pred)\n",
    "cmd = ConfusionMatrixDisplay(con, display_labels=['female','male'])\n",
    "cmd.plot()\n",
    "plt.title(\"Confusion Matrix with K=1\")"
   ]
  },
  {
   "cell_type": "code",
   "execution_count": 41,
   "metadata": {},
   "outputs": [
    {
     "name": "stdout",
     "output_type": "stream",
     "text": [
      "Metrics of the model with K=1\n",
      "              precision    recall  f1-score   support\n",
      "\n",
      "           0       0.89      0.88      0.88        48\n",
      "           1       0.88      0.90      0.89        48\n",
      "\n",
      "    accuracy                           0.89        96\n",
      "   macro avg       0.89      0.89      0.89        96\n",
      "weighted avg       0.89      0.89      0.89        96\n",
      "\n"
     ]
    }
   ],
   "source": [
    "# printing precision,recall,accuracy score etc\n",
    "print(\"Metrics of the model with K=1\")\n",
    "print(classification_report(y_test,pred))"
   ]
  },
  {
   "cell_type": "markdown",
   "metadata": {},
   "source": [
    "Try different values to find the best K"
   ]
  },
  {
   "cell_type": "code",
   "execution_count": 42,
   "metadata": {},
   "outputs": [
    {
     "name": "stdout",
     "output_type": "stream",
     "text": [
      "30\n"
     ]
    },
    {
     "data": {
      "text/plain": [
       "[0.11458333333333333,\n",
       " 0.125,\n",
       " 0.10416666666666667,\n",
       " 0.13541666666666666,\n",
       " 0.13541666666666666,\n",
       " 0.16666666666666666,\n",
       " 0.16666666666666666,\n",
       " 0.15625,\n",
       " 0.125,\n",
       " 0.13541666666666666,\n",
       " 0.13541666666666666,\n",
       " 0.125,\n",
       " 0.10416666666666667,\n",
       " 0.125,\n",
       " 0.11458333333333333,\n",
       " 0.13541666666666666,\n",
       " 0.11458333333333333,\n",
       " 0.14583333333333334,\n",
       " 0.125,\n",
       " 0.15625,\n",
       " 0.15625,\n",
       " 0.15625,\n",
       " 0.13541666666666666,\n",
       " 0.15625,\n",
       " 0.14583333333333334,\n",
       " 0.15625,\n",
       " 0.14583333333333334,\n",
       " 0.14583333333333334,\n",
       " 0.14583333333333334,\n",
       " 0.14583333333333334]"
      ]
     },
     "execution_count": 42,
     "metadata": {},
     "output_type": "execute_result"
    }
   ],
   "source": [
    "error_rate=[]#list that will store the average error rate value of k\n",
    "for i in range (1,31):  #Took the range of k from 1 to 30\n",
    "    clf=KNeighborsClassifier(n_neighbors=i)\n",
    "    clf.fit(X_train,y_train)\n",
    "    predict_i=clf.predict(X_test)\n",
    "    error_rate.append(np.mean(predict_i!=y_test))\n",
    "\n",
    "print(len(error_rate))\n",
    "error_rate"
   ]
  },
  {
   "cell_type": "code",
   "execution_count": 43,
   "metadata": {},
   "outputs": [
    {
     "data": {
      "image/png": "[encoded data removed]",
      "text/plain": [
       "<Figure size 1200x600 with 1 Axes>"
      ]
     },
     "metadata": {},
     "output_type": "display_data"
    }
   ],
   "source": [
    "#plotting the error rate vs k graph \n",
    "plt.figure(figsize=(12,6))\n",
    "plt.plot(range(1,31),error_rate,marker=\"o\",markerfacecolor=\"green\",\n",
    "         linestyle=\"dashed\",color=\"red\",markersize=15)\n",
    "plt.title(\"Error rate vs k value\",fontsize=20)\n",
    "plt.xlabel(\"k- values\",fontsize=20)\n",
    "plt.ylabel(\"error rate\",fontsize=20)\n",
    "plt.xticks(range(1,31))\n",
    "plt.show()"
   ]
  },
  {
   "cell_type": "code",
   "execution_count": 44,
   "metadata": {},
   "outputs": [
    {
     "data": {
      "text/plain": [
       "Text(0.5, 1.0, 'Confusion Matrix with K=3')"
      ]
     },
     "execution_count": 44,
     "metadata": {},
     "output_type": "execute_result"
    },
    {
     "data": {
      "image/png": "[encoded data removed]",
      "text/plain": [
       "<Figure size 640x480 with 2 Axes>"
      ]
     },
     "metadata": {},
     "output_type": "display_data"
    }
   ],
   "source": [
    "knn_model=KNeighborsClassifier(n_neighbors=3)\n",
    "knn_model.fit(X_train,y_train)\n",
    "predicted_value=knn_model.predict(X_test)\n",
    "con_mat=confusion_matrix(y_test,predicted_value)\n",
    "cmd_3 = ConfusionMatrixDisplay(con_mat, display_labels=['female','male'])\n",
    "cmd_3.plot()\n",
    "plt.title(\"Confusion Matrix with K=3\")"
   ]
  },
  {
   "cell_type": "code",
   "execution_count": 45,
   "metadata": {},
   "outputs": [
    {
     "name": "stdout",
     "output_type": "stream",
     "text": [
      "Metrics of the model with K=3\n",
      "              precision    recall  f1-score   support\n",
      "\n",
      "           0       0.90      0.90      0.90        48\n",
      "           1       0.90      0.90      0.90        48\n",
      "\n",
      "    accuracy                           0.90        96\n",
      "   macro avg       0.90      0.90      0.90        96\n",
      "weighted avg       0.90      0.90      0.90        96\n",
      "\n"
     ]
    }
   ],
   "source": [
    "# printing precision,recall,accuracy score etc\n",
    "print(\"Metrics of the model with K=3\")\n",
    "print(classification_report(y_test,predicted_value))"
   ]
  },
  {
   "cell_type": "code",
   "execution_count": 46,
   "metadata": {},
   "outputs": [
    {
     "name": "stdout",
     "output_type": "stream",
     "text": [
      "[[42  6]\n",
      " [ 5 43]]\n",
      "              precision    recall  f1-score   support\n",
      "\n",
      "           0       0.89      0.88      0.88        48\n",
      "           1       0.88      0.90      0.89        48\n",
      "\n",
      "    accuracy                           0.89        96\n",
      "   macro avg       0.89      0.89      0.89        96\n",
      "weighted avg       0.89      0.89      0.89        96\n",
      "\n"
     ]
    }
   ],
   "source": [
    "# printing precision,recall,accuracy score etc\n",
    "print(con)\n",
    "print(classification_report(y_test,pred))"
   ]
  },
  {
   "cell_type": "markdown",
   "metadata": {},
   "source": [
    "Se concluye que el mejor valor para K es 3 sin modificar los parámetros"
   ]
  },
  {
   "cell_type": "code",
   "execution_count": 47,
   "metadata": {},
   "outputs": [
    {
     "name": "stdout",
     "output_type": "stream",
     "text": [
      "Number of clasifications as females =  214\n",
      "Real number of females =  236\n",
      "Number of pictures with good clasification =  0.9067796610169492\n"
     ]
    }
   ],
   "source": [
    "# Test the model on new images in a test folder\n",
    "test_data, test_labels = load_images_from_folder(\"test_new_pictures/female\")\n",
    "test_predictions = knn_model.predict(test_data)\n",
    "\n",
    "# Print the predictions for the test images\n",
    "female=0\n",
    "for i, prediction in enumerate(test_predictions):\n",
    "    if prediction==0:\n",
    "        gender=\"Male\"\n",
    "    else:\n",
    "        gender=\"Female\"\n",
    "        female+=1\n",
    "    \n",
    "    \n",
    "    #print(f\"Test Image {i + 1}: Predicted Gender - {gender}\")\n",
    "\n",
    "accuracy=female/len(test_predictions)\n",
    "\n",
    "\n",
    "print(\"Number of clasifications as females = \", female)\n",
    "print(\"Real number of females = \", len(test_predictions))\n",
    "print(\"Number of pictures with good clasification = \", accuracy)"
   ]
  },
  {
   "cell_type": "code",
   "execution_count": 48,
   "metadata": {},
   "outputs": [
    {
     "name": "stdout",
     "output_type": "stream",
     "text": [
      "Number of clasifications as males =  160\n",
      "Real number of males =  238\n",
      "Number of pictures with good clasification =  0.6722689075630253\n"
     ]
    }
   ],
   "source": [
    "# Test the model on new images in a test folder\n",
    "test_data, test_labels = load_images_from_folder(\"test_new_pictures/male\")\n",
    "test_predictions = knn_model.predict(test_data)\n",
    "\n",
    "# Print the predictions for the test images\n",
    "male=0\n",
    "for i, prediction in enumerate(test_predictions):\n",
    "    if prediction==1:\n",
    "        gender=\"Female\"\n",
    "    else:\n",
    "        gender=\"Male\"\n",
    "        male+=1\n",
    "    \n",
    "    \n",
    "    #print(f\"Test Image {i + 1}: Predicted Gender - {gender}\")\n",
    "\n",
    "accuracy=male/len(test_predictions)\n",
    "\n",
    "\n",
    "print(\"Number of clasifications as males = \", male)\n",
    "print(\"Real number of males = \", len(test_predictions))\n",
    "print(\"Number of pictures with good clasification = \", accuracy)"
   ]
  },
  {
   "cell_type": "markdown",
   "metadata": {},
   "source": [
    "Observation:\n",
    "\n",
    "As can be seen, the % accuracy of the model for both genders is 86%. No parameters were modified here, keeping in mind that the model is using a uniform weight for the calculation, where all the weights of the neighbors are weighted equally."
   ]
  },
  {
   "cell_type": "markdown",
   "metadata": {},
   "source": [
    "\"<font color=\"red\">The model is trained with 80% of the data and the model is used by changing the weight parameter. The parameter changes from uniform to distance</font>\""
   ]
  },
  {
   "cell_type": "code",
   "execution_count": 49,
   "metadata": {},
   "outputs": [
    {
     "data": {
      "text/html": [
       "<style>#sk-container-id-4 {color: black;}#sk-container-id-4 pre{padding: 0;}#sk-container-id-4 div.sk-toggleable {background-color: white;}#sk-container-id-4 label.sk-toggleable__label {cursor: pointer;display: block;width: 100%;margin-bottom: 0;padding: 0.3em;box-sizing: border-box;text-align: center;}#sk-container-id-4 label.sk-toggleable__label-arrow:before {content: \"▸\";float: left;margin-right: 0.25em;color: #696969;}#sk-container-id-4 label.sk-toggleable__label-arrow:hover:before {color: black;}#sk-container-id-4 div.sk-estimator:hover label.sk-toggleable__label-arrow:before {color: black;}#sk-container-id-4 div.sk-toggleable__content {max-height: 0;max-width: 0;overflow: hidden;text-align: left;background-color: #f0f8ff;}#sk-container-id-4 div.sk-toggleable__content pre {margin: 0.2em;color: black;border-radius: 0.25em;background-color: #f0f8ff;}#sk-container-id-4 input.sk-toggleable__control:checked~div.sk-toggleable__content {max-height: 200px;max-width: 100%;overflow: auto;}#sk-container-id-4 input.sk-toggleable__control:checked~label.sk-toggleable__label-arrow:before {content: \"▾\";}#sk-container-id-4 div.sk-estimator input.sk-toggleable__control:checked~label.sk-toggleable__label {background-color: #d4ebff;}#sk-container-id-4 div.sk-label input.sk-toggleable__control:checked~label.sk-toggleable__label {background-color: #d4ebff;}#sk-container-id-4 input.sk-hidden--visually {border: 0;clip: rect(1px 1px 1px 1px);clip: rect(1px, 1px, 1px, 1px);height: 1px;margin: -1px;overflow: hidden;padding: 0;position: absolute;width: 1px;}#sk-container-id-4 div.sk-estimator {font-family: monospace;background-color: #f0f8ff;border: 1px dotted black;border-radius: 0.25em;box-sizing: border-box;margin-bottom: 0.5em;}#sk-container-id-4 div.sk-estimator:hover {background-color: #d4ebff;}#sk-container-id-4 div.sk-parallel-item::after {content: \"\";width: 100%;border-bottom: 1px solid gray;flex-grow: 1;}#sk-container-id-4 div.sk-label:hover label.sk-toggleable__label {background-color: #d4ebff;}#sk-container-id-4 div.sk-serial::before {content: \"\";position: absolute;border-left: 1px solid gray;box-sizing: border-box;top: 0;bottom: 0;left: 50%;z-index: 0;}#sk-container-id-4 div.sk-serial {display: flex;flex-direction: column;align-items: center;background-color: white;padding-right: 0.2em;padding-left: 0.2em;position: relative;}#sk-container-id-4 div.sk-item {position: relative;z-index: 1;}#sk-container-id-4 div.sk-parallel {display: flex;align-items: stretch;justify-content: center;background-color: white;position: relative;}#sk-container-id-4 div.sk-item::before, #sk-container-id-4 div.sk-parallel-item::before {content: \"\";position: absolute;border-left: 1px solid gray;box-sizing: border-box;top: 0;bottom: 0;left: 50%;z-index: -1;}#sk-container-id-4 div.sk-parallel-item {display: flex;flex-direction: column;z-index: 1;position: relative;background-color: white;}#sk-container-id-4 div.sk-parallel-item:first-child::after {align-self: flex-end;width: 50%;}#sk-container-id-4 div.sk-parallel-item:last-child::after {align-self: flex-start;width: 50%;}#sk-container-id-4 div.sk-parallel-item:only-child::after {width: 0;}#sk-container-id-4 div.sk-dashed-wrapped {border: 1px dashed gray;margin: 0 0.4em 0.5em 0.4em;box-sizing: border-box;padding-bottom: 0.4em;background-color: white;}#sk-container-id-4 div.sk-label label {font-family: monospace;font-weight: bold;display: inline-block;line-height: 1.2em;}#sk-container-id-4 div.sk-label-container {text-align: center;}#sk-container-id-4 div.sk-container {/* jupyter's `normalize.less` sets `[hidden] { display: none; }` but bootstrap.min.css set `[hidden] { display: none !important; }` so we also need the `!important` here to be able to override the default hidden behavior on the sphinx rendered scikit-learn.org. See: https://github.com/scikit-learn/scikit-learn/issues/21755 */display: inline-block !important;position: relative;}#sk-container-id-4 div.sk-text-repr-fallback {display: none;}</style><div id=\"sk-container-id-4\" class=\"sk-top-container\"><div class=\"sk-text-repr-fallback\"><pre>KNeighborsClassifier(n_neighbors=3, weights=&#x27;distance&#x27;)</pre><b>In a Jupyter environment, please rerun this cell to show the HTML representation or trust the notebook. <br />On GitHub, the HTML representation is unable to render, please try loading this page with nbviewer.org.</b></div><div class=\"sk-container\" hidden><div class=\"sk-item\"><div class=\"sk-estimator sk-toggleable\"><input class=\"sk-toggleable__control sk-hidden--visually\" id=\"sk-estimator-id-4\" type=\"checkbox\" checked><label for=\"sk-estimator-id-4\" class=\"sk-toggleable__label sk-toggleable__label-arrow\">KNeighborsClassifier</label><div class=\"sk-toggleable__content\"><pre>KNeighborsClassifier(n_neighbors=3, weights=&#x27;distance&#x27;)</pre></div></div></div></div></div>"
      ],
      "text/plain": [
       "KNeighborsClassifier(n_neighbors=3, weights='distance')"
      ]
     },
     "execution_count": 49,
     "metadata": {},
     "output_type": "execute_result"
    }
   ],
   "source": [
    "k = 3  # Number of neighbors (you can tune this hyperparameter)\n",
    "knn_model = KNeighborsClassifier(n_neighbors=k,\n",
    "                                 weights='distance') #Hacer que el modelo tenga en cuenta pesos por distancia\n",
    "                                \n",
    "knn_model.fit(X_train, y_train)"
   ]
  },
  {
   "cell_type": "code",
   "execution_count": 50,
   "metadata": {},
   "outputs": [
    {
     "name": "stdout",
     "output_type": "stream",
     "text": [
      "Accuracy: 89.58%\n",
      "Classification Report:\n",
      "               precision    recall  f1-score   support\n",
      "\n",
      "        Male       0.90      0.90      0.90        48\n",
      "      Female       0.90      0.90      0.90        48\n",
      "\n",
      "    accuracy                           0.90        96\n",
      "   macro avg       0.90      0.90      0.90        96\n",
      "weighted avg       0.90      0.90      0.90        96\n",
      "\n"
     ]
    }
   ],
   "source": [
    "# Make predictions on the test data\n",
    "y_pred = knn_model.predict(X_test)\n",
    "\n",
    "# Evaluate the model\n",
    "accuracy = accuracy_score(y_test, y_pred)\n",
    "classification_rep = classification_report(y_test, y_pred, target_names=[\"Male\", \"Female\"])\n",
    "\n",
    "print(f\"Accuracy: {accuracy * 100:.2f}%\")\n",
    "print(\"Classification Report:\\n\", classification_rep)"
   ]
  },
  {
   "cell_type": "code",
   "execution_count": 51,
   "metadata": {},
   "outputs": [
    {
     "name": "stdout",
     "output_type": "stream",
     "text": [
      "Number of clasifications as females =  231\n",
      "Real number of females =  236\n",
      "Number of pictures with good clasification =  0.9788135593220338\n"
     ]
    }
   ],
   "source": [
    "# Test the model on new images in a test folder\n",
    "test_data, test_labels = load_images_from_folder(\"test_new_pictures/female\")\n",
    "test_predictions = knn_model.predict(test_data)\n",
    "\n",
    "# Print the predictions for the test images\n",
    "female=0\n",
    "for i, prediction in enumerate(test_predictions):\n",
    "    if prediction==0:\n",
    "        gender=\"Male\"\n",
    "    else:\n",
    "        gender=\"Female\"\n",
    "        female+=1\n",
    "    \n",
    "    \n",
    "    #print(f\"Test Image {i + 1}: Predicted Gender - {gender}\")\n",
    "\n",
    "accuracy=female/len(test_predictions)\n",
    "\n",
    "\n",
    "print(\"Number of clasifications as females = \", female)\n",
    "print(\"Real number of females = \", len(test_predictions))\n",
    "print(\"Number of pictures with good clasification = \", accuracy)"
   ]
  },
  {
   "cell_type": "code",
   "execution_count": 52,
   "metadata": {},
   "outputs": [
    {
     "name": "stdout",
     "output_type": "stream",
     "text": [
      "Number of clasifications as males =  160\n",
      "Real number of males =  238\n",
      "Number of pictures with good clasification =  0.6722689075630253\n"
     ]
    }
   ],
   "source": [
    "# Test the model on new images in a test folder\n",
    "test_data, test_labels = load_images_from_folder(\"test_new_pictures/male\")\n",
    "test_predictions = knn_model.predict(test_data)\n",
    "\n",
    "# Print the predictions for the test images\n",
    "male=0\n",
    "for i, prediction in enumerate(test_predictions):\n",
    "    if prediction==1:\n",
    "        gender=\"Female\"\n",
    "    else:\n",
    "        gender=\"Male\"\n",
    "        male+=1\n",
    "    \n",
    "    \n",
    "    #print(f\"Test Image {i + 1}: Predicted Gender - {gender}\")\n",
    "\n",
    "accuracy=male/len(test_predictions)\n",
    "\n",
    "\n",
    "print(\"Number of clasifications as males = \", male)\n",
    "print(\"Real number of males = \", len(test_predictions))\n",
    "print(\"Number of pictures with good clasification = \", accuracy)"
   ]
  },
  {
   "cell_type": "markdown",
   "metadata": {},
   "source": [
    "Observation:\n",
    "\n",
    "As can be seen, the % accuracy of the model for both genders is 96.62%. No parameters were modified here, keeping in mind that the model is using a uniform weight for the calculation, where all the weights of the neighbors are weighted equally."
   ]
  },
  {
   "cell_type": "markdown",
   "metadata": {},
   "source": [
    "\"<font color=\"red\">The model is trained with 80% of the data and the model is used by changing the weight parameter. The parameter changes from uniform to distance and the Manhattan distance is used.</font>\""
   ]
  },
  {
   "cell_type": "code",
   "execution_count": 53,
   "metadata": {},
   "outputs": [
    {
     "data": {
      "text/html": [
       "<style>#sk-container-id-5 {color: black;}#sk-container-id-5 pre{padding: 0;}#sk-container-id-5 div.sk-toggleable {background-color: white;}#sk-container-id-5 label.sk-toggleable__label {cursor: pointer;display: block;width: 100%;margin-bottom: 0;padding: 0.3em;box-sizing: border-box;text-align: center;}#sk-container-id-5 label.sk-toggleable__label-arrow:before {content: \"▸\";float: left;margin-right: 0.25em;color: #696969;}#sk-container-id-5 label.sk-toggleable__label-arrow:hover:before {color: black;}#sk-container-id-5 div.sk-estimator:hover label.sk-toggleable__label-arrow:before {color: black;}#sk-container-id-5 div.sk-toggleable__content {max-height: 0;max-width: 0;overflow: hidden;text-align: left;background-color: #f0f8ff;}#sk-container-id-5 div.sk-toggleable__content pre {margin: 0.2em;color: black;border-radius: 0.25em;background-color: #f0f8ff;}#sk-container-id-5 input.sk-toggleable__control:checked~div.sk-toggleable__content {max-height: 200px;max-width: 100%;overflow: auto;}#sk-container-id-5 input.sk-toggleable__control:checked~label.sk-toggleable__label-arrow:before {content: \"▾\";}#sk-container-id-5 div.sk-estimator input.sk-toggleable__control:checked~label.sk-toggleable__label {background-color: #d4ebff;}#sk-container-id-5 div.sk-label input.sk-toggleable__control:checked~label.sk-toggleable__label {background-color: #d4ebff;}#sk-container-id-5 input.sk-hidden--visually {border: 0;clip: rect(1px 1px 1px 1px);clip: rect(1px, 1px, 1px, 1px);height: 1px;margin: -1px;overflow: hidden;padding: 0;position: absolute;width: 1px;}#sk-container-id-5 div.sk-estimator {font-family: monospace;background-color: #f0f8ff;border: 1px dotted black;border-radius: 0.25em;box-sizing: border-box;margin-bottom: 0.5em;}#sk-container-id-5 div.sk-estimator:hover {background-color: #d4ebff;}#sk-container-id-5 div.sk-parallel-item::after {content: \"\";width: 100%;border-bottom: 1px solid gray;flex-grow: 1;}#sk-container-id-5 div.sk-label:hover label.sk-toggleable__label {background-color: #d4ebff;}#sk-container-id-5 div.sk-serial::before {content: \"\";position: absolute;border-left: 1px solid gray;box-sizing: border-box;top: 0;bottom: 0;left: 50%;z-index: 0;}#sk-container-id-5 div.sk-serial {display: flex;flex-direction: column;align-items: center;background-color: white;padding-right: 0.2em;padding-left: 0.2em;position: relative;}#sk-container-id-5 div.sk-item {position: relative;z-index: 1;}#sk-container-id-5 div.sk-parallel {display: flex;align-items: stretch;justify-content: center;background-color: white;position: relative;}#sk-container-id-5 div.sk-item::before, #sk-container-id-5 div.sk-parallel-item::before {content: \"\";position: absolute;border-left: 1px solid gray;box-sizing: border-box;top: 0;bottom: 0;left: 50%;z-index: -1;}#sk-container-id-5 div.sk-parallel-item {display: flex;flex-direction: column;z-index: 1;position: relative;background-color: white;}#sk-container-id-5 div.sk-parallel-item:first-child::after {align-self: flex-end;width: 50%;}#sk-container-id-5 div.sk-parallel-item:last-child::after {align-self: flex-start;width: 50%;}#sk-container-id-5 div.sk-parallel-item:only-child::after {width: 0;}#sk-container-id-5 div.sk-dashed-wrapped {border: 1px dashed gray;margin: 0 0.4em 0.5em 0.4em;box-sizing: border-box;padding-bottom: 0.4em;background-color: white;}#sk-container-id-5 div.sk-label label {font-family: monospace;font-weight: bold;display: inline-block;line-height: 1.2em;}#sk-container-id-5 div.sk-label-container {text-align: center;}#sk-container-id-5 div.sk-container {/* jupyter's `normalize.less` sets `[hidden] { display: none; }` but bootstrap.min.css set `[hidden] { display: none !important; }` so we also need the `!important` here to be able to override the default hidden behavior on the sphinx rendered scikit-learn.org. See: https://github.com/scikit-learn/scikit-learn/issues/21755 */display: inline-block !important;position: relative;}#sk-container-id-5 div.sk-text-repr-fallback {display: none;}</style><div id=\"sk-container-id-5\" class=\"sk-top-container\"><div class=\"sk-text-repr-fallback\"><pre>KNeighborsClassifier(n_neighbors=3, p=1, weights=&#x27;distance&#x27;)</pre><b>In a Jupyter environment, please rerun this cell to show the HTML representation or trust the notebook. <br />On GitHub, the HTML representation is unable to render, please try loading this page with nbviewer.org.</b></div><div class=\"sk-container\" hidden><div class=\"sk-item\"><div class=\"sk-estimator sk-toggleable\"><input class=\"sk-toggleable__control sk-hidden--visually\" id=\"sk-estimator-id-5\" type=\"checkbox\" checked><label for=\"sk-estimator-id-5\" class=\"sk-toggleable__label sk-toggleable__label-arrow\">KNeighborsClassifier</label><div class=\"sk-toggleable__content\"><pre>KNeighborsClassifier(n_neighbors=3, p=1, weights=&#x27;distance&#x27;)</pre></div></div></div></div></div>"
      ],
      "text/plain": [
       "KNeighborsClassifier(n_neighbors=3, p=1, weights='distance')"
      ]
     },
     "execution_count": 53,
     "metadata": {},
     "output_type": "execute_result"
    }
   ],
   "source": [
    "k = 3  # Number of neighbors (you can tune this hyperparameter)\n",
    "knn_model = KNeighborsClassifier(n_neighbors=k,\n",
    "                                 weights='distance', #Hacer que el modelo tenga en cuenta pesos por distancia\n",
    "                                 p=1) #Manhattan distance\n",
    "knn_model.fit(X_train, y_train)"
   ]
  },
  {
   "cell_type": "code",
   "execution_count": 54,
   "metadata": {},
   "outputs": [
    {
     "name": "stdout",
     "output_type": "stream",
     "text": [
      "Accuracy: 90.62%\n",
      "Classification Report:\n",
      "               precision    recall  f1-score   support\n",
      "\n",
      "        Male       0.93      0.88      0.90        48\n",
      "      Female       0.88      0.94      0.91        48\n",
      "\n",
      "    accuracy                           0.91        96\n",
      "   macro avg       0.91      0.91      0.91        96\n",
      "weighted avg       0.91      0.91      0.91        96\n",
      "\n"
     ]
    }
   ],
   "source": [
    "# Make predictions on the test data\n",
    "y_pred = knn_model.predict(X_test)\n",
    "\n",
    "# Evaluate the model\n",
    "accuracy = accuracy_score(y_test, y_pred)\n",
    "classification_rep = classification_report(y_test, y_pred, target_names=[\"Male\", \"Female\"])\n",
    "\n",
    "print(f\"Accuracy: {accuracy * 100:.2f}%\")\n",
    "print(\"Classification Report:\\n\", classification_rep)"
   ]
  },
  {
   "cell_type": "code",
   "execution_count": 55,
   "metadata": {},
   "outputs": [
    {
     "name": "stdout",
     "output_type": "stream",
     "text": [
      "Number of clasifications as females =  233\n",
      "Real number of females =  236\n",
      "Number of pictures with good clasification =  0.9872881355932204\n"
     ]
    }
   ],
   "source": [
    "# Test the model on new images in a test folder\n",
    "test_data, test_labels = load_images_from_folder(\"test_new_pictures/female\")\n",
    "test_predictions = knn_model.predict(test_data)\n",
    "\n",
    "# Print the predictions for the test images\n",
    "female=0\n",
    "for i, prediction in enumerate(test_predictions):\n",
    "    if prediction==0:\n",
    "        gender=\"Male\"\n",
    "    else:\n",
    "        gender=\"Female\"\n",
    "        female+=1\n",
    "    \n",
    "    \n",
    "    #print(f\"Test Image {i + 1}: Predicted Gender - {gender}\")\n",
    "\n",
    "accuracy=female/len(test_predictions)\n",
    "\n",
    "\n",
    "print(\"Number of clasifications as females = \", female)\n",
    "print(\"Real number of females = \", len(test_predictions))\n",
    "print(\"Number of pictures with good clasification = \", accuracy)"
   ]
  },
  {
   "cell_type": "code",
   "execution_count": 56,
   "metadata": {},
   "outputs": [
    {
     "name": "stdout",
     "output_type": "stream",
     "text": [
      "Number of clasifications as males =  130\n",
      "Real number of males =  238\n",
      "Number of pictures with good clasification =  0.5462184873949579\n"
     ]
    }
   ],
   "source": [
    "# Test the model on new images in a test folder\n",
    "test_data, test_labels = load_images_from_folder(\"test_new_pictures/male\")\n",
    "test_predictions = knn_model.predict(test_data)\n",
    "\n",
    "# Print the predictions for the test images\n",
    "male=0\n",
    "for i, prediction in enumerate(test_predictions):\n",
    "    if prediction==1:\n",
    "        gender=\"Female\"\n",
    "    else:\n",
    "        gender=\"Male\"\n",
    "        male+=1\n",
    "    \n",
    "    \n",
    "    #print(f\"Test Image {i + 1}: Predicted Gender - {gender}\")\n",
    "\n",
    "accuracy=male/len(test_predictions)\n",
    "\n",
    "\n",
    "print(\"Number of clasifications as males = \", male)\n",
    "print(\"Real number of males = \", len(test_predictions))\n",
    "print(\"Number of pictures with good clasification = \", accuracy)"
   ]
  },
  {
   "cell_type": "markdown",
   "metadata": {},
   "source": [
    "Observation:\n",
    "\n",
    "As can be seen, the % accuracy of the model for both genders is 96.62%. No parameters were modified here, keeping in mind that the model is using a uniform weight for the calculation, where all the weights of the neighbors are weighted equally."
   ]
  }
 ],
 "metadata": {
  "kernelspec": {
   "display_name": "Python 3",
   "language": "python",
   "name": "python3"
  },
  "language_info": {
   "codemirror_mode": {
    "name": "ipython",
    "version": 3
   },
   "file_extension": ".py",
   "mimetype": "text/x-python",
   "name": "python",
   "nbconvert_exporter": "python",
   "pygments_lexer": "ipython3",
   "version": "3.11.5"
  },
  "orig_nbformat": 4
 },
 "nbformat": 4,
 "nbformat_minor": 2
}
